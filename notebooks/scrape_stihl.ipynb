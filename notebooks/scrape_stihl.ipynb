{
 "cells": [
  {
   "cell_type": "code",
   "execution_count": 2,
   "metadata": {},
   "outputs": [],
   "source": [
    "import pandas as pd\n",
    "\n",
    "acs_df = pd.read_csv('../data/stihl/product_accesories.csv')\n",
    "new_products = pd.read_csv('../data/stihl/stihl_new_products.csv')"
   ]
  },
  {
   "cell_type": "code",
   "execution_count": 6,
   "metadata": {},
   "outputs": [
    {
     "data": {
      "text/plain": [
       "'https://www.stihlusa.com/products/trimmers-and-brushcutters/trimmer-heads-and-blades/autocut/?aqid=7cc82ad014514d263bcc251fea31117b'"
      ]
     },
     "execution_count": 6,
     "metadata": {},
     "output_type": "execute_result"
    }
   ],
   "source": [
    "prod_list = acs_df.accessory_link.to_list()\n",
    "prod_list[0]"
   ]
  },
  {
   "cell_type": "code",
   "execution_count": 13,
   "metadata": {},
   "outputs": [
    {
     "name": "stdout",
     "output_type": "stream",
     "text": [
      "rule_crwu 1 ['AutoCut EasySpoolTM Line Heads']\n",
      "rule_e9s7 7 ['Image of AutoCut EasySpoolTM Line Heads', 'Close up of trimmer with AutoCut® EasySpoolTM trimmer head (TapActionTM)', 'Image of AutoCut® C 4-2']\n",
      "rule_pywd 7 ['Image of AutoCut EasySpoolTM Line Heads', 'Close up of trimmer with AutoCut® EasySpoolTM trimmer head (TapActionTM)', 'Image of AutoCut® C 4-2']\n",
      "rule_akhy 1 ['AutoCut EasySpoolTM Line Heads']\n",
      "rule_fm7p 1 ['Adjusted by Tapping -\\n           The nylon line length is adjusted by tapping the cutting head against the ground.']\n"
     ]
    }
   ],
   "source": [
    "from autoscraper import AutoScraper\n",
    "\n",
    "url = prod_list[0]\n",
    "# enter the specific keywords to target and retrieve.\n",
    "wanted_list = [\"AutoCut Line Heads\", \"Multiple Cutting Solutions -\\n           Compatible with multiple cutting solutions.\", \"FEATURES\", \"Amplify your line trimming with the AutoCut® line head.\"]\n",
    "# create an AutoScraper object\n",
    "\n",
    "acs_scraper = AutoScraper()\n",
    "# build the scraper on an initial URL\n",
    "example_result = acs_scraper.build(\n",
    "    url,\n",
    "    wanted_list=wanted_list,\n",
    "    text_fuzz_ratio=0.8\n",
    ")\n",
    "\n",
    "another_product_url = prod_list[1]\n",
    "\n",
    "data = acs_scraper.get_result_similar(another_product_url, grouped=True)\n",
    "for key, items in data.items():\n",
    "    print(key, len(items), items[:3])"
   ]
  },
  {
   "cell_type": "code",
   "execution_count": 14,
   "metadata": {},
   "outputs": [
    {
     "data": {
      "text/plain": [
       "['AutoCut Line Heads',\n",
       " 'Image of AutoCut Line Heads',\n",
       " 'Image of AutoCut® 2-2 3-Pack Replacement Spools',\n",
       " 'Image of AutoCut® 27-2',\n",
       " 'Image of AutoCut® 2-2 Replacement Spool',\n",
       " \"Image of AutoCut® 5-2 Replacement Spool with .080'' Quiet LineTM\",\n",
       " 'Image of AutoCut® 11-2',\n",
       " 'Image of AutoCut® 36-2',\n",
       " 'Image of AutoCut® 46-2',\n",
       " 'Image of AutoCut® 56-2',\n",
       " 'Multiple Cutting Solutions -\\n           Compatible with multiple cutting solutions.']"
      ]
     },
     "execution_count": 14,
     "metadata": {},
     "output_type": "execute_result"
    }
   ],
   "source": [
    "example_result"
   ]
  },
  {
   "cell_type": "code",
   "execution_count": null,
   "metadata": {},
   "outputs": [],
   "source": []
  },
  {
   "cell_type": "code",
   "execution_count": null,
   "metadata": {},
   "outputs": [],
   "source": []
  }
 ],
 "metadata": {
  "kernelspec": {
   "display_name": ".venv",
   "language": "python",
   "name": "python3"
  },
  "language_info": {
   "codemirror_mode": {
    "name": "ipython",
    "version": 3
   },
   "file_extension": ".py",
   "mimetype": "text/x-python",
   "name": "python",
   "nbconvert_exporter": "python",
   "pygments_lexer": "ipython3",
   "version": "3.10.13"
  }
 },
 "nbformat": 4,
 "nbformat_minor": 2
}
